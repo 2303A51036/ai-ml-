{
  "nbformat": 4,
  "nbformat_minor": 0,
  "metadata": {
    "colab": {
      "provenance": [],
      "authorship_tag": "ABX9TyONk8bWk9OddM/Zt09aYhU1",
      "include_colab_link": true
    },
    "kernelspec": {
      "name": "python3",
      "display_name": "Python 3"
    },
    "language_info": {
      "name": "python"
    }
  },
  "cells": [
    {
      "cell_type": "markdown",
      "metadata": {
        "id": "view-in-github",
        "colab_type": "text"
      },
      "source": [
        "<a href=\"https://colab.research.google.com/github/2303A51036/ai-ml-/blob/main/intenship_1.ipynb\" target=\"_parent\"><img src=\"https://colab.research.google.com/assets/colab-badge.svg\" alt=\"Open In Colab\"/></a>"
      ]
    },
    {
      "cell_type": "markdown",
      "source": [
        " AI Task 2"
      ],
      "metadata": {
        "id": "Y8k5VRj0gr9l"
      }
    },
    {
      "cell_type": "code",
      "source": [
        "from sklearn.feature_extraction.text import TfidfVectorizer\n",
        "from sklearn.metrics.pairwise import cosine_similarity\n",
        "\n",
        "# Sample internship domain descriptions\n",
        "domains = {\n",
        "    \"AI\": \"Work on machine learning, deep learning, and NLP projects.\",\n",
        "    \"Web Development\": \"Build responsive websites using HTML, CSS, JS, and frameworks.\",\n",
        "    \"Cybersecurity\": \"Explore penetration testing, ethical hacking, and network security.\",\n",
        "    \"Data Science\": \"Analyze data using Python, Pandas, and visualization libraries.\"\n",
        "}\n",
        "\n",
        "# Simulate a student's interest\n",
        "student_profile = \"I like building models using machine learning and analyzing data.\"\n",
        "\n",
        "# Vectorize the texts\n",
        "vectorizer = TfidfVectorizer()\n",
        "all_texts = [student_profile] + list(domains.values())\n",
        "tfidf_matrix = vectorizer.fit_transform(all_texts)\n",
        "\n",
        "# Calculate similarity\n",
        "similarities = cosine_similarity(tfidf_matrix[0:1], tfidf_matrix[1:]).flatten()\n",
        "\n",
        "# Recommend the best match\n",
        "best_match_index = similarities.argmax()\n",
        "recommended_domain = list(domains.keys())[best_match_index]\n",
        "\n",
        "print(\"Recommended Internship Domain:\", recommended_domain)\n"
      ],
      "metadata": {
        "colab": {
          "base_uri": "https://localhost:8080/"
        },
        "id": "ijO-zZzrgE0g",
        "outputId": "0290216b-b30b-47d0-b055-bc738cdf2f8a"
      },
      "execution_count": null,
      "outputs": [
        {
          "output_type": "stream",
          "name": "stdout",
          "text": [
            "Recommended Internship Domain: AI\n"
          ]
        }
      ]
    },
    {
      "cell_type": "code",
      "source": [
        "students = {}\n",
        "\n",
        "def add_student():\n",
        "    roll = input(\"Enter roll number: \")\n",
        "    name = input(\"Enter name: \")\n",
        "    grade = input(\"Enter grade: \")\n",
        "    students[roll] = {\"name\": name, \"grade\": grade}\n",
        "    print(\"Student added successfully!\\n\")\n",
        "\n",
        "def view_students():\n",
        "    for roll, info in students.items():\n",
        "        print(f\"Roll: {roll}, Name: {info['name']}, Grade: {info['grade']}\")\n",
        "\n",
        "def update_student():\n",
        "    roll = input(\"Enter roll to update: \")\n",
        "    if roll in students:\n",
        "        name = input(\"New name: \")\n",
        "        grade = input(\"New grade: \")\n",
        "        students[roll] = {\"name\": name, \"grade\": grade}\n",
        "        print(\"Updated successfully!\\n\")\n",
        "    else:\n",
        "        print(\"Student not found!\\n\")\n",
        "\n",
        "def delete_student():\n",
        "    roll = input(\"Enter roll to delete: \")\n",
        "    if roll in students:\n",
        "        del students[roll]\n",
        "        print(\"Deleted successfully!\\n\")\n",
        "    else:\n",
        "        print(\"Student not found!\\n\")"
      ],
      "metadata": {
        "id": "X_pMTBmjqktQ"
      },
      "execution_count": null,
      "outputs": []
    },
    {
      "cell_type": "code",
      "source": [],
      "metadata": {
        "id": "h4vcL-IeukKM"
      },
      "execution_count": null,
      "outputs": []
    }
  ]
}